{
 "cells": [
  {
   "cell_type": "code",
   "execution_count": 73,
   "metadata": {},
   "outputs": [],
   "source": [
    "import pandas as pd\n",
    "import numpy as np\n",
    "sun_df = pd.read_csv(\"SunEarthTools_AnnualSunPath_2020_1595731921226.csv\",delimiter=\";\",index_col=0)"
   ]
  },
  {
   "cell_type": "code",
   "execution_count": 74,
   "metadata": {},
   "outputs": [],
   "source": [
    "el = sun_df.iloc[:,0:48:2].replace('--',np.nan)\n",
    "az = sun_df.iloc[:,1:48:2].replace('--',np.nan)"
   ]
  },
  {
   "cell_type": "code",
   "execution_count": 81,
   "metadata": {},
   "outputs": [
    {
     "name": "stdout",
     "output_type": "stream",
     "text": [
      "el 1.01, 70.87\n",
      "az 93.39, 271.31\n"
     ]
    }
   ],
   "source": [
    "elmin = el.min().min()\n",
    "elmax = el.max().max()\n",
    "print(f'el {elmin}, {elmax}')\n",
    "\n",
    "azmin = az.min().min()\n",
    "azmax = az.max().max()\n",
    "print(f'az {azmin}, {azmax}')"
   ]
  },
  {
   "cell_type": "code",
   "execution_count": null,
   "metadata": {},
   "outputs": [],
   "source": []
  }
 ],
 "metadata": {
  "kernelspec": {
   "display_name": "Python 3",
   "language": "python",
   "name": "python3"
  },
  "language_info": {
   "codemirror_mode": {
    "name": "ipython",
    "version": 3
   },
   "file_extension": ".py",
   "mimetype": "text/x-python",
   "name": "python",
   "nbconvert_exporter": "python",
   "pygments_lexer": "ipython3",
   "version": "3.8.3"
  }
 },
 "nbformat": 4,
 "nbformat_minor": 4
}
